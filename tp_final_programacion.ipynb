{
 "cells": [
  {
   "cell_type": "code",
   "execution_count": null,
   "id": "ea30df3a-be74-4199-be7a-e04d545085df",
   "metadata": {},
   "outputs": [],
   "source": [
    "#Instalación de la librería gseapy\n",
    "pip install gseapy"
   ]
  },
  {
   "cell_type": "code",
   "execution_count": null,
   "id": "e23226ce-3abd-4b44-a490-9d95b0da31b2",
   "metadata": {},
   "outputs": [],
   "source": [
    "#Instalación de la librería matplotlib\n",
    "pip install matplotlib"
   ]
  },
  {
   "cell_type": "code",
   "execution_count": null,
   "id": "1276b4a0-c67d-4e3c-aebe-5c1ab7d1d0f3",
   "metadata": {},
   "outputs": [],
   "source": [
    "#Instalación de wget\n",
    "pip install wget"
   ]
  },
  {
   "cell_type": "code",
   "execution_count": null,
   "id": "b20f58b3-977b-4fb6-b667-1a3797e4ba61",
   "metadata": {},
   "outputs": [],
   "source": [
    "#Importo las librerías a usar\n",
    "import pandas as pd\n",
    "import wget\n",
    "import matplotlib.pyplot as plt\n",
    "import numpy as np\n",
    "import gseapy as gp\n",
    "\n",
    "\n"
   ]
  },
  {
   "cell_type": "code",
   "execution_count": null,
   "id": "fd78cbe0-ffec-4b93-9b4d-1d74d8dd94a1",
   "metadata": {},
   "outputs": [],
   "source": [
    "#Descargo el set de datos\n",
    "url='https://raw.githubusercontent.com/jfmaggio/tp_final_programacion/main/GSE113469.top.table.csv'\n",
    "\n",
    "wget.download(url)"
   ]
  },
  {
   "cell_type": "code",
   "execution_count": null,
   "id": "a8d62cc8-e52f-41c3-8072-96b4b4172787",
   "metadata": {},
   "outputs": [],
   "source": [
    "#Los datos descargados los cargo en un dataframe\n",
    "\n",
    "\n",
    "genes_principal = pd.read_csv('GSE113469.top.table.csv', on_bad_lines='skip')\n",
    "print(genes_principal.head(n=25)) #Imprimo las primeras 25 lineas del dataframe\n"
   ]
  },
  {
   "cell_type": "code",
   "execution_count": null,
   "id": "937908f7-352b-45f6-8826-c3c897a6d165",
   "metadata": {},
   "outputs": [],
   "source": [
    "#Averigo el rango de valores de los datos\n",
    "print('El mínimo de valores de la columna adj.P.Value es:', genes_principal['adj.P.Val'].min(), 'y el máximo es: ', genes_principal['adj.P.Val'].max())\n",
    "print('El mínimo de valores de la columna logFC es:', genes_principal['logFC'].min(), 'y el máximo es: ', genes_principal['logFC'].max())\n",
    "print('El mínimo de valores de la columna GI es:', genes_principal['GI'].min(), 'y el máximo es: ', genes_principal['GI'].max())\n"
   ]
  },
  {
   "cell_type": "code",
   "execution_count": null,
   "id": "3a08befb-b6fa-4956-a8de-77ed4e160e15",
   "metadata": {},
   "outputs": [],
   "source": [
    "#Para ver que tipo de datos tiene el dataframe\n",
    "genes_principal.map(type).apply(set)"
   ]
  },
  {
   "cell_type": "code",
   "execution_count": null,
   "id": "07796d6b-0f3c-40b5-b65d-981afe4e6690",
   "metadata": {},
   "outputs": [],
   "source": [
    "genes_principal['ID'].count() "
   ]
  },
  {
   "cell_type": "code",
   "execution_count": null,
   "id": "a3bcddcf-3328-4d9e-af8c-78c9572ce47c",
   "metadata": {},
   "outputs": [],
   "source": [
    "genes_principal['Gene.symbol'].isnull().sum() #Chequeo cuantos nombres de genes faltan"
   ]
  },
  {
   "cell_type": "code",
   "execution_count": null,
   "id": "536a2347-55e2-4e80-9e53-45e3d6a3e433",
   "metadata": {},
   "outputs": [],
   "source": [
    "genes_principal['ID'].count()#Chequeo cuantos nombres de genes hay"
   ]
  },
  {
   "cell_type": "code",
   "execution_count": null,
   "id": "9714039b-af1d-40d2-8000-e5bca00e3e69",
   "metadata": {},
   "outputs": [],
   "source": [
    "#Saco las filas con NaN\n",
    "genes_principal = genes_principal.dropna(subset=['Gene.symbol'])"
   ]
  },
  {
   "cell_type": "code",
   "execution_count": null,
   "id": "0d9ad3db-61d9-4a33-8ed4-cd7398f1be60",
   "metadata": {},
   "outputs": [],
   "source": [
    "genes_principal['ID'].count()#Chequeo cuantos nombres de genes hay"
   ]
  },
  {
   "cell_type": "code",
   "execution_count": null,
   "id": "6b5467c4-3793-48ef-afdc-2d0071919bd2",
   "metadata": {},
   "outputs": [],
   "source": [
    "print(genes_principal.head(n=25)) #Imprimo las primeras 25 lineas del dataframe"
   ]
  },
  {
   "cell_type": "code",
   "execution_count": null,
   "id": "4e2359e1-a5a0-43ce-aa6b-0b76fceead9d",
   "metadata": {},
   "outputs": [],
   "source": [
    "#Creo un histograma con las frecuencias de los valores p ajustados\n",
    "plt.hist(genes_principal['adj.P.Val'], bins=100, edgecolor='black')\n",
    "\n",
    "\n",
    "plt.xlabel('Valor p Ajustado')\n",
    "plt.ylabel('Frecuencia')\n",
    "plt.title('Histograma de Valor p Ajustado')\n",
    "plt.savefig( 'Histograma.png', bbox_inches='tight')"
   ]
  },
  {
   "cell_type": "code",
   "execution_count": null,
   "id": "81a7c692-6cf6-4a49-b914-4cb8ca2ed1f9",
   "metadata": {},
   "outputs": [],
   "source": [
    "#Se crea un grafico de volcan para visualizar los genes diferencialmente expresados, y se colocan ineas delimiando los que seran filtrados\n",
    "# Separo los genes sobreexpresados y subexpresados respecto de los controles\n",
    "sob = genes_principal.loc[genes_principal['logFC'] > 0]\n",
    "sub = genes_principal.loc[genes_principal['logFC'] < 0]\n",
    "\n",
    "#Calculo el -log(p austado)\n",
    "neg_logpvalue_sob = -np.log10(sob['adj.P.Val'])\n",
    "neg_logpvalue_sub = -np.log10(sub['adj.P.Val'])\n",
    "\n",
    "\n",
    "# Dibujar los genes sobreexpresados y subexpresados con colores diferentes\n",
    "plt.scatter(sob['logFC'], neg_logpvalue_sob, color='green', label='Sobreexpresados', alpha=1, s=5)\n",
    "plt.scatter(sub['logFC'], neg_logpvalue_sub, color='blue', label='Subexpresados', alpha=1, s=5)\n",
    "\n",
    "# Establecer los límites y etiquetas de los ejes\n",
    "plt.xlim(-5, 5)\n",
    "\n",
    "plt.xlabel('Log Fold Change')\n",
    "plt.ylabel('-log10(p-value)')\n",
    "plt.title('Gráfico de Volcán')\n",
    "\n",
    "# Añado una línea para resaltar los genes significativamente diferencialmente expresados\n",
    "threshold = -np.log10(0.05)\n",
    "plt.axhline(y=threshold, color='red', linestyle='-', linewidth=0.5)\n",
    "\n",
    "# Añado líneas verticales para resaltar los genes diferencialmente expresados con |logFC| > 1\n",
    "plt.axvline(x=1, color='red', linestyle='--', linewidth=1)  # Ejemplo de línea vertical en x=1\n",
    "plt.axvline(x=-1, color='red', linestyle='--', linewidth=1)  # Ejemplo de línea vertical en x=-1\n",
    "\n",
    "\n",
    "# Añadir leyenda\n",
    "plt.legend()\n",
    "\n",
    "plt.savefig( 'graf_volcan.png', bbox_inches='tight')"
   ]
  },
  {
   "cell_type": "code",
   "execution_count": null,
   "id": "930002c0-5364-42ad-bf58-762a8c6671c9",
   "metadata": {},
   "outputs": [],
   "source": [
    "%load_ext autoreload\n",
    "%autoreload 2\n",
    "#Importo las librerías\n",
    "import pandas as pd\n",
    "import gseapy as gp\n"
   ]
  },
  {
   "cell_type": "code",
   "execution_count": null,
   "id": "a2882bd9-d7b9-49d2-a6b3-d98c53a858af",
   "metadata": {},
   "outputs": [],
   "source": [
    "#Filtro por adj.P.Val, los menores a 0.05\n",
    "genes_principal = genes_principal[genes_principal['adj.P.Val'] < 0.05]\n",
    "#Cuento cuantos genes quedan\n",
    "print(\"Después del filtrado quedan\", genes_principal['Gene.symbol'].count(), \"genes\")"
   ]
  },
  {
   "cell_type": "code",
   "execution_count": null,
   "id": "08a16aab-6bf7-4e8d-93d8-bc360655cfda",
   "metadata": {},
   "outputs": [],
   "source": [
    "#Ahora armo dos dataframes, uno con los genes sobreexpresados con expresión ayor a 1 (logFC > 1) y el otro con los subexpresados con expresión menor a -1 (logFC < (-1)).\n",
    "genes_sob_mayoresa1 = genes_principal[genes_principal['logFC'] > 1]\n",
    "\n",
    "genes_sub_menoresa1 = genes_principal[genes_principal['logFC'] < (-1)]\n",
    "\n",
    "#Cuento cuantos genes quedan\n",
    "print(\"Después del filtrado por LogFC quedan\", genes_sob_mayoresa1['Gene.symbol'].count(), \"genes sobreexpresados y \", genes_sub_menoresa1['Gene.symbol'].count(), \"genes subexpresados respecto de los controles.\")\n"
   ]
  },
  {
   "cell_type": "code",
   "execution_count": null,
   "id": "03c53d40-c58e-445a-acfb-c5e05bf3c954",
   "metadata": {},
   "outputs": [],
   "source": [
    "#Checkeo los dataframes creados\n",
    "genes_sob_mayoresa1.head()"
   ]
  },
  {
   "cell_type": "code",
   "execution_count": null,
   "id": "3e155c4c-fdf4-40f8-a018-f59b46f4a0be",
   "metadata": {},
   "outputs": [],
   "source": [
    "#Checkeo los dataframes creados\n",
    "genes_sub_menoresa1.head()"
   ]
  },
  {
   "cell_type": "code",
   "execution_count": null,
   "id": "bae6acb6-7de4-4e88-a465-a36bf1f664b3",
   "metadata": {},
   "outputs": [],
   "source": [
    "#Ya habiendo hecho los filtrados correspondientes, hago el análisis de enriquecmiento de los genes sobreexpresados respecto de los controles.\n",
    "enr_sob = gp.enrichr(gene_list=genes_sob_mayoresa1['Gene.symbol'], \n",
    "                 gene_sets=['GO_Biological_Process_2023','GO_Cellular_Component_2023', 'GO_Molecular_Function_2023', 'KEGG_2021_Human'],\n",
    "                 organism='human', \n",
    "                 outdir=None,\n",
    "                )"
   ]
  },
  {
   "cell_type": "code",
   "execution_count": null,
   "id": "4ce74876-f3f4-4041-83ac-3b8e8e00585a",
   "metadata": {},
   "outputs": [],
   "source": [
    "#Importo la funciones de gsapy para graficar\n",
    "from gseapy import barplot, dotplot"
   ]
  },
  {
   "cell_type": "code",
   "execution_count": null,
   "id": "38b11196-945f-42ea-b2bf-5d67ea0ea1c3",
   "metadata": {
    "scrolled": true
   },
   "outputs": [],
   "source": [
    "#Se grafican los resultados obtenidos para los genes sobreexpresados, usando un gráfico de puntos\n",
    "ax_sob = dotplot(enr_sob.results,\n",
    "              column=\"Adjusted P-value\",\n",
    "              x='Gene_set', \n",
    "              size=5,\n",
    "              top_term=3,\n",
    "              figsize=(3,5),\n",
    "              title = \"Analisis de Enriquecimiento de Genes Sobreexpresados\",\n",
    "              xticklabels_rot=45,\n",
    "              show_ring=True, \n",
    "              marker='o',\n",
    "             )\n",
    "plt.savefig( 'puntos_sob.png', bbox_inches='tight')"
   ]
  },
  {
   "cell_type": "code",
   "execution_count": null,
   "id": "d172d5d0-8dce-47d5-b441-3bf45b04a5aa",
   "metadata": {},
   "outputs": [],
   "source": [
    "#Se grafican los resultados obtenidos para los genes sobreexpresados, usando un gráfico de barras\n",
    "bar_sob = barplot(enr_sob.results,\n",
    "              column=\"Adjusted P-value\",\n",
    "              group='Gene_set',\n",
    "              size=5,\n",
    "              top_term=3,\n",
    "              figsize=(3,5),\n",
    "              title = \"Analisis de Enriquecimiento de Genes Sobreexpresados\",\n",
    "              color = {'GO_Biological_Process_2023': 'cornflowerblue', 'GO_Cellular_Component_2023':'darkblue', 'GO_Molecular_Function_2023':'lightskyblue', 'KEGG_2021_Human':'green'}\n",
    "             )\n",
    "plt.savefig( 'barras_sob.png', bbox_inches='tight')"
   ]
  },
  {
   "cell_type": "code",
   "execution_count": null,
   "id": "45d2cfe4-63d9-44df-b4e6-b454b4ebd830",
   "metadata": {},
   "outputs": [],
   "source": [
    "enr_sob.results"
   ]
  },
  {
   "cell_type": "code",
   "execution_count": null,
   "id": "44acf23c-a4b5-4423-b3ad-0d82c3e08af1",
   "metadata": {},
   "outputs": [],
   "source": [
    "enr_sob.results=enr_sob.results.sort_values(by = \"Adjusted P-value\")\n",
    "\n",
    "enr_sob.results[['Gene_set', 'Term', 'Overlap', 'Adjusted P-value']].head(n=25)\n"
   ]
  },
  {
   "cell_type": "code",
   "execution_count": null,
   "id": "803f6f33-ceb6-4fec-9bec-34c53c84186e",
   "metadata": {},
   "outputs": [],
   "source": [
    "enr_sob.results[enr_sob.results['Gene_set'] == \"GO_Biological_Process_2023\"].head(n=3)"
   ]
  },
  {
   "cell_type": "code",
   "execution_count": null,
   "id": "db89a6c9-49ce-4fb5-92d5-44e5a58a90ef",
   "metadata": {},
   "outputs": [],
   "source": [
    "enr_sob.results[enr_sob.results['Gene_set'] == \"GO_Cellular_Component_2023\"].head(n=3)"
   ]
  },
  {
   "cell_type": "code",
   "execution_count": null,
   "id": "592ad748-2779-4ae5-b7f6-8e803ad4b362",
   "metadata": {},
   "outputs": [],
   "source": [
    "enr_sob.results[enr_sob.results['Gene_set'] == \"GO_Molecular_Function_2023\"].head(n=3)"
   ]
  },
  {
   "cell_type": "code",
   "execution_count": null,
   "id": "ff059385-11f5-4bea-bac0-3cfa9159c51d",
   "metadata": {},
   "outputs": [],
   "source": [
    "enr_sob.results[enr_sob.results['Gene_set'] == \"KEGG_2021_Human\"].head(n=3)"
   ]
  },
  {
   "cell_type": "code",
   "execution_count": null,
   "id": "1a4010da-03dd-4c31-9e75-ad890dd0fb59",
   "metadata": {},
   "outputs": [],
   "source": [
    "#Ya habiendo hecho los filtrados correspondientes, hago el análisis de enriquecmiento de los genes subexpresados respecto de los controles.\n",
    "enr_sub = gp.enrichr(gene_list=genes_sub_menoresa1['Gene.symbol'], \n",
    "                 gene_sets=['GO_Biological_Process_2023','GO_Cellular_Component_2023', 'GO_Molecular_Function_2023', 'KEGG_2021_Human'],\n",
    "                 organism='human', \n",
    "                 outdir=None,\n",
    "                )"
   ]
  },
  {
   "cell_type": "code",
   "execution_count": null,
   "id": "73d62450-aa68-4e27-99a7-d9ab98c26026",
   "metadata": {},
   "outputs": [],
   "source": [
    "#Se grafican los resultados obtenidos para los genes subexpresados, usando un gráfico de puntos\n",
    "ax_sub = dotplot(enr_sub.results,\n",
    "              column=\"Adjusted P-value\",\n",
    "              x='Gene_set', \n",
    "              size=20,\n",
    "              top_term=3,\n",
    "              figsize=(3,5),\n",
    "              title = \"Analisis de Enriquecimiento de Genes Subexpresados\",\n",
    "              xticklabels_rot=45,\n",
    "              show_ring=True, \n",
    "              marker='o',\n",
    "             )\n",
    "plt.savefig( 'puntos_sub.png', bbox_inches='tight')"
   ]
  },
  {
   "cell_type": "code",
   "execution_count": null,
   "id": "453534b3-d642-4dd4-b5cc-80b18091ce50",
   "metadata": {},
   "outputs": [],
   "source": [
    "#Se grafican los resultados obtenidos para los genes subexpresados, usando un gráfico de barras\n",
    "bar_sub = barplot(enr_sub.results,\n",
    "              column=\"Adjusted P-value\",\n",
    "              group='Gene_set',\n",
    "              size=5,\n",
    "              top_term=3,\n",
    "              figsize=(5,5),\n",
    "              title = \"Analisis de Enriquecimiento de Genes Subexpresados\",\n",
    "              color = {'GO_Biological_Process_2023': 'cornflowerblue', 'GO_Cellular_Component_2023':'darkblue', 'GO_Molecular_Function_2023':'lightskyblue', 'KEGG_2021_Human':'green'}\n",
    "             )\n",
    "plt.savefig( 'barras_sub.png', bbox_inches='tight')"
   ]
  },
  {
   "cell_type": "code",
   "execution_count": null,
   "id": "354d48af-8a4c-46ca-ab94-a06644c8288d",
   "metadata": {},
   "outputs": [],
   "source": [
    "enr_sub.results.head()"
   ]
  },
  {
   "cell_type": "code",
   "execution_count": null,
   "id": "aacdaa2f-31a0-44f9-a4c7-efa38eb1e463",
   "metadata": {},
   "outputs": [],
   "source": [
    "enr_sub.results=enr_sub.results.sort_values(by = \"Adjusted P-value\")\n",
    "\n",
    "enr_sub.results[enr_sub.results['Gene_set'] == \"GO_Cellular_Component_2023\"].head(n=3)"
   ]
  },
  {
   "cell_type": "code",
   "execution_count": null,
   "id": "a899cd1d-7c80-4712-8831-78a59cbfdfc7",
   "metadata": {},
   "outputs": [],
   "source": [
    "enr_sub.results[enr_sub.results['Gene_set'] == \"GO_Biological_Process_2023\"].head(n=3)"
   ]
  },
  {
   "cell_type": "code",
   "execution_count": null,
   "id": "de3800a5-f4b5-4056-b000-fec158cd8774",
   "metadata": {},
   "outputs": [],
   "source": [
    "enr_sub.results[enr_sub.results['Gene_set'] == \"GO_Molecular_Function_2023\"].head(n=3)"
   ]
  },
  {
   "cell_type": "code",
   "execution_count": null,
   "id": "98f418cb-177f-41a3-baf0-4a901fc8c4d5",
   "metadata": {},
   "outputs": [],
   "source": [
    "enr_sub.results[enr_sub.results['Gene_set'] == \"KEGG_2021_Human\"].head(n=3)"
   ]
  },
  {
   "cell_type": "code",
   "execution_count": null,
   "id": "6afc4d17-3958-4d4c-a98c-74137036d03f",
   "metadata": {},
   "outputs": [],
   "source": []
  }
 ],
 "metadata": {
  "kernelspec": {
   "display_name": "Python 3 (ipykernel)",
   "language": "python",
   "name": "python3"
  },
  "language_info": {
   "codemirror_mode": {
    "name": "ipython",
    "version": 3
   },
   "file_extension": ".py",
   "mimetype": "text/x-python",
   "name": "python",
   "nbconvert_exporter": "python",
   "pygments_lexer": "ipython3",
   "version": "3.11.5"
  }
 },
 "nbformat": 4,
 "nbformat_minor": 5
}
